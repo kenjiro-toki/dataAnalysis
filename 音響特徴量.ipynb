{
 "cells": [
  {
   "cell_type": "code",
   "execution_count": 3,
   "id": "06faad23",
   "metadata": {
    "scrolled": true
   },
   "outputs": [
    {
     "name": "stdout",
     "output_type": "stream",
     "text": [
      "Requirement already satisfied: opensmile in /Users/hiraken/.venv/pylec/lib/python3.10/site-packages (2.4.2)\n",
      "Requirement already satisfied: audobject>=0.6.1 in /Users/hiraken/.venv/pylec/lib/python3.10/site-packages (from opensmile) (0.7.9)\n",
      "Requirement already satisfied: audinterface>=0.7.0 in /Users/hiraken/.venv/pylec/lib/python3.10/site-packages (from opensmile) (1.0.3)\n",
      "Requirement already satisfied: audformat<2.0.0,>=1.0.1 in /Users/hiraken/.venv/pylec/lib/python3.10/site-packages (from audinterface>=0.7.0->opensmile) (1.0.1)\n",
      "Requirement already satisfied: audmath>=1.2.1 in /Users/hiraken/.venv/pylec/lib/python3.10/site-packages (from audinterface>=0.7.0->opensmile) (1.2.1)\n",
      "Requirement already satisfied: audresample<2.0.0,>=1.1.0 in /Users/hiraken/.venv/pylec/lib/python3.10/site-packages (from audinterface>=0.7.0->opensmile) (1.3.2)\n",
      "Requirement already satisfied: audeer>=1.18.0 in /Users/hiraken/.venv/pylec/lib/python3.10/site-packages (from audobject>=0.6.1->opensmile) (1.20.1)\n",
      "Requirement already satisfied: importlib-metadata>=4.8.0 in /Users/hiraken/.venv/pylec/lib/python3.10/site-packages (from audobject>=0.6.1->opensmile) (6.7.0)\n",
      "Requirement already satisfied: oyaml in /Users/hiraken/.venv/pylec/lib/python3.10/site-packages (from audobject>=0.6.1->opensmile) (1.0)\n",
      "Requirement already satisfied: tqdm in /Users/hiraken/.venv/pylec/lib/python3.10/site-packages (from audeer>=1.18.0->audobject>=0.6.1->opensmile) (4.65.0)\n",
      "Requirement already satisfied: audiofile>=0.4.0 in /Users/hiraken/.venv/pylec/lib/python3.10/site-packages (from audformat<2.0.0,>=1.0.1->audinterface>=0.7.0->opensmile) (1.2.1)\n",
      "Requirement already satisfied: iso-639 in /Users/hiraken/.venv/pylec/lib/python3.10/site-packages (from audformat<2.0.0,>=1.0.1->audinterface>=0.7.0->opensmile) (0.4.5)\n",
      "Requirement already satisfied: iso3166 in /Users/hiraken/.venv/pylec/lib/python3.10/site-packages (from audformat<2.0.0,>=1.0.1->audinterface>=0.7.0->opensmile) (2.1.1)\n",
      "Requirement already satisfied: pyyaml>=5.4.1 in /Users/hiraken/.venv/pylec/lib/python3.10/site-packages (from audformat<2.0.0,>=1.0.1->audinterface>=0.7.0->opensmile) (6.0)\n",
      "Requirement already satisfied: pandas>=1.4.1 in /Users/hiraken/.venv/pylec/lib/python3.10/site-packages (from audformat<2.0.0,>=1.0.1->audinterface>=0.7.0->opensmile) (1.5.1)\n",
      "Requirement already satisfied: numpy in /Users/hiraken/.venv/pylec/lib/python3.10/site-packages (from audmath>=1.2.1->audinterface>=0.7.0->opensmile) (1.23.4)\n",
      "Requirement already satisfied: zipp>=0.5 in /Users/hiraken/.venv/pylec/lib/python3.10/site-packages (from importlib-metadata>=4.8.0->audobject>=0.6.1->opensmile) (3.15.0)\n",
      "Requirement already satisfied: soundfile in /Users/hiraken/.venv/pylec/lib/python3.10/site-packages (from audiofile>=0.4.0->audformat<2.0.0,>=1.0.1->audinterface>=0.7.0->opensmile) (0.12.1)\n",
      "Requirement already satisfied: python-dateutil>=2.8.1 in /Users/hiraken/.venv/pylec/lib/python3.10/site-packages (from pandas>=1.4.1->audformat<2.0.0,>=1.0.1->audinterface>=0.7.0->opensmile) (2.8.2)\n",
      "Requirement already satisfied: pytz>=2020.1 in /Users/hiraken/.venv/pylec/lib/python3.10/site-packages (from pandas>=1.4.1->audformat<2.0.0,>=1.0.1->audinterface>=0.7.0->opensmile) (2022.5)\n",
      "Requirement already satisfied: six>=1.5 in /Users/hiraken/.venv/pylec/lib/python3.10/site-packages (from python-dateutil>=2.8.1->pandas>=1.4.1->audformat<2.0.0,>=1.0.1->audinterface>=0.7.0->opensmile) (1.16.0)\n",
      "Requirement already satisfied: cffi>=1.0 in /Users/hiraken/.venv/pylec/lib/python3.10/site-packages (from soundfile->audiofile>=0.4.0->audformat<2.0.0,>=1.0.1->audinterface>=0.7.0->opensmile) (1.15.1)\n",
      "Requirement already satisfied: pycparser in /Users/hiraken/.venv/pylec/lib/python3.10/site-packages (from cffi>=1.0->soundfile->audiofile>=0.4.0->audformat<2.0.0,>=1.0.1->audinterface>=0.7.0->opensmile) (2.21)\n",
      "Note: you may need to restart the kernel to use updated packages.\n"
     ]
    }
   ],
   "source": [
    "pip install opensmile"
   ]
  },
  {
   "cell_type": "code",
   "execution_count": 1,
   "id": "bf0431d2",
   "metadata": {
    "scrolled": false
   },
   "outputs": [
    {
     "ename": "OSError",
     "evalue": "dlopen(/Users/hiraken/.venv/pylec/lib/python3.10/site-packages/opensmile/core/bin/osx/libSMILEapi.dylib, 0x0006): tried: '/Users/hiraken/.venv/pylec/lib/python3.10/site-packages/opensmile/core/bin/osx/libSMILEapi.dylib' (mach-o file, but is an incompatible architecture (have 'x86_64', need 'arm64')), '/System/Volumes/Preboot/Cryptexes/OS/Users/hiraken/.venv/pylec/lib/python3.10/site-packages/opensmile/core/bin/osx/libSMILEapi.dylib' (no such file), '/Users/hiraken/.venv/pylec/lib/python3.10/site-packages/opensmile/core/bin/osx/libSMILEapi.dylib' (mach-o file, but is an incompatible architecture (have 'x86_64', need 'arm64'))",
     "output_type": "error",
     "traceback": [
      "\u001b[0;31m---------------------------------------------------------------------------\u001b[0m",
      "\u001b[0;31mOSError\u001b[0m                                   Traceback (most recent call last)",
      "Cell \u001b[0;32mIn [1], line 1\u001b[0m\n\u001b[0;32m----> 1\u001b[0m \u001b[38;5;28;01mimport\u001b[39;00m \u001b[38;5;21;01mopensmile\u001b[39;00m\n",
      "File \u001b[0;32m~/.venv/pylec/lib/python3.10/site-packages/opensmile/__init__.py:6\u001b[0m\n\u001b[1;32m      1\u001b[0m \u001b[38;5;28;01mfrom\u001b[39;00m \u001b[38;5;21;01mopensmile\u001b[39;00m\u001b[38;5;21;01m.\u001b[39;00m\u001b[38;5;21;01mcore\u001b[39;00m\u001b[38;5;21;01m.\u001b[39;00m\u001b[38;5;21;01mconfig\u001b[39;00m \u001b[38;5;28;01mimport\u001b[39;00m config\n\u001b[1;32m      2\u001b[0m \u001b[38;5;28;01mfrom\u001b[39;00m \u001b[38;5;21;01mopensmile\u001b[39;00m\u001b[38;5;21;01m.\u001b[39;00m\u001b[38;5;21;01mcore\u001b[39;00m\u001b[38;5;21;01m.\u001b[39;00m\u001b[38;5;21;01mdefine\u001b[39;00m \u001b[38;5;28;01mimport\u001b[39;00m (\n\u001b[1;32m      3\u001b[0m     FeatureSet,\n\u001b[1;32m      4\u001b[0m     FeatureLevel,\n\u001b[1;32m      5\u001b[0m )\n\u001b[0;32m----> 6\u001b[0m \u001b[38;5;28;01mfrom\u001b[39;00m \u001b[38;5;21;01mopensmile\u001b[39;00m\u001b[38;5;21;01m.\u001b[39;00m\u001b[38;5;21;01mcore\u001b[39;00m\u001b[38;5;21;01m.\u001b[39;00m\u001b[38;5;21;01msmile\u001b[39;00m \u001b[38;5;28;01mimport\u001b[39;00m (\n\u001b[1;32m      7\u001b[0m     Smile,\n\u001b[1;32m      8\u001b[0m )\n\u001b[1;32m     11\u001b[0m __all__ \u001b[38;5;241m=\u001b[39m []\n\u001b[1;32m     14\u001b[0m __version__ \u001b[38;5;241m=\u001b[39m \u001b[38;5;124m'\u001b[39m\u001b[38;5;124munknown\u001b[39m\u001b[38;5;124m'\u001b[39m\n",
      "File \u001b[0;32m~/.venv/pylec/lib/python3.10/site-packages/opensmile/core/smile.py:13\u001b[0m\n\u001b[1;32m     10\u001b[0m \u001b[38;5;28;01mimport\u001b[39;00m \u001b[38;5;21;01maudinterface\u001b[39;00m\n\u001b[1;32m     11\u001b[0m \u001b[38;5;28;01mimport\u001b[39;00m \u001b[38;5;21;01maudobject\u001b[39;00m\n\u001b[0;32m---> 13\u001b[0m \u001b[38;5;28;01mfrom\u001b[39;00m \u001b[38;5;21;01mopensmile\u001b[39;00m\u001b[38;5;21;01m.\u001b[39;00m\u001b[38;5;21;01mcore\u001b[39;00m\u001b[38;5;21;01m.\u001b[39;00m\u001b[38;5;21;01mSMILEapi\u001b[39;00m \u001b[38;5;28;01mimport\u001b[39;00m (\n\u001b[1;32m     14\u001b[0m     OpenSMILE,\n\u001b[1;32m     15\u001b[0m     FrameMetaData,\n\u001b[1;32m     16\u001b[0m )\n\u001b[1;32m     17\u001b[0m \u001b[38;5;28;01mfrom\u001b[39;00m \u001b[38;5;21;01mopensmile\u001b[39;00m\u001b[38;5;21;01m.\u001b[39;00m\u001b[38;5;21;01mcore\u001b[39;00m\u001b[38;5;21;01m.\u001b[39;00m\u001b[38;5;21;01mconfig\u001b[39;00m \u001b[38;5;28;01mimport\u001b[39;00m config\n\u001b[1;32m     18\u001b[0m \u001b[38;5;28;01mfrom\u001b[39;00m \u001b[38;5;21;01mopensmile\u001b[39;00m\u001b[38;5;21;01m.\u001b[39;00m\u001b[38;5;21;01mcore\u001b[39;00m\u001b[38;5;21;01m.\u001b[39;00m\u001b[38;5;21;01mdefine\u001b[39;00m \u001b[38;5;28;01mimport\u001b[39;00m (\n\u001b[1;32m     19\u001b[0m     FeatureLevel,\n\u001b[1;32m     20\u001b[0m     FeatureLevelResolver,\n\u001b[1;32m     21\u001b[0m     FeatureSet,\n\u001b[1;32m     22\u001b[0m     FeatureSetResolver,\n\u001b[1;32m     23\u001b[0m )\n",
      "File \u001b[0;32m~/.venv/pylec/lib/python3.10/site-packages/opensmile/core/SMILEapi.py:23\u001b[0m\n\u001b[1;32m     19\u001b[0m \u001b[38;5;28;01melse\u001b[39;00m:  \u001b[38;5;66;03m# pragma: no cover\u001b[39;00m\n\u001b[1;32m     20\u001b[0m     smileapi_path \u001b[38;5;241m=\u001b[39m os\u001b[38;5;241m.\u001b[39mpath\u001b[38;5;241m.\u001b[39mjoin(\n\u001b[1;32m     21\u001b[0m         root, \u001b[38;5;124m'\u001b[39m\u001b[38;5;124mbin\u001b[39m\u001b[38;5;124m'\u001b[39m, \u001b[38;5;124m'\u001b[39m\u001b[38;5;124mlinux\u001b[39m\u001b[38;5;124m'\u001b[39m, \u001b[38;5;124m'\u001b[39m\u001b[38;5;124mlibSMILEapi.so\u001b[39m\u001b[38;5;124m'\u001b[39m,\n\u001b[1;32m     22\u001b[0m     )\n\u001b[0;32m---> 23\u001b[0m smileapi \u001b[38;5;241m=\u001b[39m \u001b[43mcdll\u001b[49m\u001b[38;5;241;43m.\u001b[39;49m\u001b[43mLoadLibrary\u001b[49m\u001b[43m(\u001b[49m\u001b[43msmileapi_path\u001b[49m\u001b[43m)\u001b[49m\n\u001b[1;32m     25\u001b[0m \u001b[38;5;66;03m# definitions from smileComponent.hpp\u001b[39;00m\n\u001b[1;32m     26\u001b[0m CMSG_textLen \u001b[38;5;241m=\u001b[39m \u001b[38;5;241m64\u001b[39m\n",
      "File \u001b[0;32m/opt/homebrew/Cellar/python@3.10/3.10.11/Frameworks/Python.framework/Versions/3.10/lib/python3.10/ctypes/__init__.py:452\u001b[0m, in \u001b[0;36mLibraryLoader.LoadLibrary\u001b[0;34m(self, name)\u001b[0m\n\u001b[1;32m    451\u001b[0m \u001b[38;5;28;01mdef\u001b[39;00m \u001b[38;5;21mLoadLibrary\u001b[39m(\u001b[38;5;28mself\u001b[39m, name):\n\u001b[0;32m--> 452\u001b[0m     \u001b[38;5;28;01mreturn\u001b[39;00m \u001b[38;5;28;43mself\u001b[39;49m\u001b[38;5;241;43m.\u001b[39;49m\u001b[43m_dlltype\u001b[49m\u001b[43m(\u001b[49m\u001b[43mname\u001b[49m\u001b[43m)\u001b[49m\n",
      "File \u001b[0;32m/opt/homebrew/Cellar/python@3.10/3.10.11/Frameworks/Python.framework/Versions/3.10/lib/python3.10/ctypes/__init__.py:374\u001b[0m, in \u001b[0;36mCDLL.__init__\u001b[0;34m(self, name, mode, handle, use_errno, use_last_error, winmode)\u001b[0m\n\u001b[1;32m    371\u001b[0m \u001b[38;5;28mself\u001b[39m\u001b[38;5;241m.\u001b[39m_FuncPtr \u001b[38;5;241m=\u001b[39m _FuncPtr\n\u001b[1;32m    373\u001b[0m \u001b[38;5;28;01mif\u001b[39;00m handle \u001b[38;5;129;01mis\u001b[39;00m \u001b[38;5;28;01mNone\u001b[39;00m:\n\u001b[0;32m--> 374\u001b[0m     \u001b[38;5;28mself\u001b[39m\u001b[38;5;241m.\u001b[39m_handle \u001b[38;5;241m=\u001b[39m \u001b[43m_dlopen\u001b[49m\u001b[43m(\u001b[49m\u001b[38;5;28;43mself\u001b[39;49m\u001b[38;5;241;43m.\u001b[39;49m\u001b[43m_name\u001b[49m\u001b[43m,\u001b[49m\u001b[43m \u001b[49m\u001b[43mmode\u001b[49m\u001b[43m)\u001b[49m\n\u001b[1;32m    375\u001b[0m \u001b[38;5;28;01melse\u001b[39;00m:\n\u001b[1;32m    376\u001b[0m     \u001b[38;5;28mself\u001b[39m\u001b[38;5;241m.\u001b[39m_handle \u001b[38;5;241m=\u001b[39m handle\n",
      "\u001b[0;31mOSError\u001b[0m: dlopen(/Users/hiraken/.venv/pylec/lib/python3.10/site-packages/opensmile/core/bin/osx/libSMILEapi.dylib, 0x0006): tried: '/Users/hiraken/.venv/pylec/lib/python3.10/site-packages/opensmile/core/bin/osx/libSMILEapi.dylib' (mach-o file, but is an incompatible architecture (have 'x86_64', need 'arm64')), '/System/Volumes/Preboot/Cryptexes/OS/Users/hiraken/.venv/pylec/lib/python3.10/site-packages/opensmile/core/bin/osx/libSMILEapi.dylib' (no such file), '/Users/hiraken/.venv/pylec/lib/python3.10/site-packages/opensmile/core/bin/osx/libSMILEapi.dylib' (mach-o file, but is an incompatible architecture (have 'x86_64', need 'arm64'))"
     ]
    }
   ],
   "source": [
    "import opensmile"
   ]
  },
  {
   "cell_type": "code",
   "execution_count": 6,
   "id": "f7fcb038",
   "metadata": {},
   "outputs": [
    {
     "name": "stdout",
     "output_type": "stream",
     "text": [
      "['wav/BF013F18_HS.wav', 'wav/BF014F18_HS.wav', 'wav/BF015F18_HS.wav', 'wav/BF051F18_HS.wav', 'wav/BF052F18_HS.wav', 'wav/BF053F18_HS.wav', 'wav/BF054F18_HS.wav', 'wav/BF091F18_HS.wav', 'wav/BF092F18_HS.wav', 'wav/BF093F18_HS.wav', 'wav/BF094F18_HS.wav', 'wav/BF095F18_HS.wav', 'wav/BF128F18_HS.wav', 'wav/BF129F18_HS.wav', 'wav/BF130F18_HS.wav', 'wav/BFP01F18_HS.wav', 'wav/BM016F18_HS.wav', 'wav/BM017F18_HS.wav', 'wav/BM018F18_HS.wav', 'wav/BM019F18_HS.wav', 'wav/BM056F18_HS.wav', 'wav/BM057F18_HS.wav', 'wav/BM058F18_HS.wav', 'wav/BM059F18_HS.wav', 'wav/BM060F18_HS.wav', 'wav/BM097F18_HS.wav', 'wav/BM098F18_HS.wav', 'wav/BM099F18_HS.wav', 'wav/BM135F18_HS.wav', 'wav/BM137F18_HS.wav', 'wav/BM138F18_HS.wav']\n"
     ]
    }
   ],
   "source": [
    "import glob\n",
    "files = sorted(glob.glob(\"wav/*\"))\n",
    "print(files)"
   ]
  },
  {
   "cell_type": "code",
   "execution_count": 11,
   "id": "fdbded4e",
   "metadata": {},
   "outputs": [
    {
     "ename": "NameError",
     "evalue": "name 'opensmile' is not defined",
     "output_type": "error",
     "traceback": [
      "\u001b[0;31m---------------------------------------------------------------------------\u001b[0m",
      "\u001b[0;31mNameError\u001b[0m                                 Traceback (most recent call last)",
      "Cell \u001b[0;32mIn [11], line 1\u001b[0m\n\u001b[0;32m----> 1\u001b[0m smile \u001b[38;5;241m=\u001b[39m opensmile\u001b[38;5;241m.\u001b[39mSmile(\n\u001b[1;32m      2\u001b[0m     feature_set\u001b[38;5;241m=\u001b[39mopensmile\u001b[38;5;241m.\u001b[39mFeatureSet\u001b[38;5;241m.\u001b[39meGeMAPSv01b,\n\u001b[1;32m      3\u001b[0m     feature_level\u001b[38;5;241m=\u001b[39mopensmile\u001b[38;5;241m.\u001b[39mFeatureLevel\u001b[38;5;241m.\u001b[39mFunctionals,\n\u001b[1;32m      4\u001b[0m )\n\u001b[1;32m      6\u001b[0m \u001b[38;5;28;01mfor\u001b[39;00m file \u001b[38;5;129;01min\u001b[39;00m files:\n\u001b[1;32m      7\u001b[0m     feat \u001b[38;5;241m=\u001b[39m smile\u001b[38;5;241m.\u001b[39mprocess_file(\u001b[38;5;124m'\u001b[39m\u001b[38;5;124mfile\u001b[39m\u001b[38;5;124m'\u001b[39m)\n",
      "\u001b[0;31mNameError\u001b[0m: name 'opensmile' is not defined"
     ]
    }
   ],
   "source": [
    "smile = opensmile.Smile(\n",
    "    feature_set=opensmile.FeatureSet.eGeMAPSv01b,\n",
    "    feature_level=opensmile.FeatureLevel.Functionals,\n",
    ")\n",
    "\n",
    "feats =[]\n",
    "for file in files:\n",
    "    feat = smile.process_file('file')\n",
    "    print(feat.shape)\n",
    "    feats.append(feat)\n"
   ]
  }
 ],
 "metadata": {
  "kernelspec": {
   "display_name": "Python 3 (ipykernel)",
   "language": "python",
   "name": "python3"
  },
  "language_info": {
   "codemirror_mode": {
    "name": "ipython",
    "version": 3
   },
   "file_extension": ".py",
   "mimetype": "text/x-python",
   "name": "python",
   "nbconvert_exporter": "python",
   "pygments_lexer": "ipython3",
   "version": "3.10.11"
  }
 },
 "nbformat": 4,
 "nbformat_minor": 5
}
