{
  "nbformat": 4,
  "nbformat_minor": 0,
  "metadata": {
    "colab": {
      "provenance": []
    },
    "kernelspec": {
      "name": "python3",
      "display_name": "Python 3"
    },
    "language_info": {
      "name": "python"
    }
  },
  "cells": [
    {
      "cell_type": "markdown",
      "source": [
        "テキスト読み込んで整形"
      ],
      "metadata": {
        "id": "pzO0jT3P4soD"
      }
    },
    {
      "cell_type": "code",
      "execution_count": 77,
      "metadata": {
        "colab": {
          "base_uri": "https://localhost:8080/"
        },
        "id": "Y1-HN7H0xIyH",
        "outputId": "f5123207-87e8-44a0-f7e7-3cf3a9deec1d"
      },
      "outputs": [
        {
          "output_type": "stream",
          "name": "stdout",
          "text": [
            "['/content/A01F0055.txt', '/content/A01F0067.txt', '/content/A01F0122.txt', '/content/A01M0007.txt', '/content/A01M0015.txt', '/content/A01M0020.txt', '/content/S00F0014.txt', '/content/S00F0031.txt', '/content/S00F0041.txt', '/content/S00M0025.txt', '/content/S00M0053.txt', '/content/S00M0065.txt']\n",
            "(F えーっと)(R ××××××××××××××××××××)ということで(F えー)(D す)発表します(F えー)私共は乳児が音楽をどのように聞いているかまた聴取に発達齢差が見られるかを検討しております本研究では旋律の調つまり長調ですとか短調の変化の(D ひきわけん)聞き分けに着目して実験を通して(F えー)知見を得ましたので報告したいと思います(F え)長調短調の違いは(F え)成人の場合は比較的容易に(F あの)普段から聞き分けていられると(D い)言われていますまた海外の(F えー)研究では四五歳児幼児は(F え)両者の弁別が可能であるという報告もありますではいつ頃から可能なのでしょうかあるいは人間の発達の初期の(F え)段階から見られるような(F えー)傾向なのでしょうか(F え)ゼロ歳児を対象とした研究にはコーエンらの(F えー)報告が(F えー)挙げられます彼らは七から十一か月児を対象として長三和音例えばドミソミドの(F えー)分散和音型をずっと聞かせ続けてでその後に短三和音例えばレファラファレというような(F え)分散和音を聞かせると(F え)その変化に気付いて音源の方向を振り向く率が(F え)変化しなかった場合に比べて有意に高かったことから七から十一か月児は長三和音と短三和音を弁別しているという風に報告しております(F え)ただし(F えー)<FV>私達が日常耳にするような音楽の旋律の形態を素材とした聴取反応については(F えー)まだゼロ歳児で(F え)そういうことが可能であるとか(F あのー)そういうことに関してはまだ報告されておりませんで長調短調の(F えー)旋律の形態における違い(F えー)旋律としての(F そのー)長調短調の違いに気付くのはいつ頃からなのか本研究では童謡の旋律を用いて(F えー)まず第一段階の検討として長調の原型旋律とそれを短調に変えた変形旋律を乳児に示して選好聴取反応を検討してみましたまた(F えー)実験に(F え)参加した乳児がどの程度の頻度で(F え)原型として用いた曲を聞いているかという乳児個々の(F え)経験との関連についても検討してみました(F え)実験は(F えー)先行研究こちらのコーエンらに示された月齢を元にそれよりも若い五か月児それから(F えー)それよりも(F えー)大きい十四か月児を加え(F え)五か月児八か月児十四か月児(F え)三つの月齢グループに対して行ないましたでそれぞれ(F えー)十六名の有効データーを得ました実験操作ミスの一名とそれから途中で泣き出して(F えー)実験を最後まで行なえなかった六名分のデーターは(F えー)取り除いてありますで男女は(F えー)男児二十三名女児二十五名となっております次に(F えー)素材として使ったメロディーについて説明します(F え)こちらに示した犬のおまわりさんぞうさんチューリップ大きな栗の木の下で森のくまさんアイアイこの六曲は(F えー)(F あの)全く別の調査の際に(F え)乳児の(F えー)親に馴染みがあるという風に判断された(F え)童謡の(F えー)上位六位にランクされたものですで(F えーっと)これらは(F あのー)お分かりのように全て長調の旋律でしたそこでこれらを(F えー)原型として今回用いることにしましたでそれから(F えー)これらを全て(F え)短調に(F え)変えてしまったもの六曲(D2 も)を(F えー)短調への変形旋律として(F え)用意しましたで各旋律共(F えー)旋律の部分だけ特に伴奏などを(F あの)加えないで(F え)旋律だけを(F えー)それぞれ冒頭から約二十秒分(F えー)ヤマハエレクトーン(A イーエル九十;ＥＬ９０)の木管系の音色を用いて(A ダット;ＤＡＴ)に録音し(F えー)両方で十二曲の素材を用意しましたで(F えーっと)実験時には乳児の耳元でそれぞれの音圧が六十五から七十デシベル程度になるように調整してありますよいしょ(F えー)その中から(F あの)一曲これは犬のおまわりさんですけれどもこれを例にちょっと(F えー)旋律の変形について説明します(F え)上にありますのが(F えーと)元の(F えー)メロディーですね長調のメロディーですで下にありますのが(F え)今回短調に変形した(F えー)メロディーです(F え)丸で囲んだところの(F えーと)音が(F えーと)上と比べると変わっております半音低くなっておりますそれから(F あの)青い部分で示した(F えー)この第一音と第二音目ですとか(F えー)この部分それぞれの部分の(F えと)音程の間隔が(F えーと)上記の長調のメロディーと変わっておりますで(F えーと)これらの変形によって(F えー)下の(F えー)マイナーの方のメロディーは短調独特の旋律の(F え)旋律を形作っているという風になっていますで次に(F あの)実験の方法について説明します(F えと)実験は(F あの)ケムラー・ネルソンらによる選好振り向き法を用いました十二曲を被験児全員に個別に一回ずつ聞かせて音源を見ていた時間を聴取時間として測定していますで実験に際して(F え)被験児は(F えー)このような実験ブースの中央に母親の膝の上に支えられて座りますで左右両側の壁にはそれぞれ赤いランプとそれから裏側にスピーカーが(F えー)セットされていますでまず正面の緑色のランプのみが(F え)点滅してで乳児を正面に(F えー)向かせた後左右どちらかの(F えー)(D ひ)一方だけの赤色ランプが(F え)点滅して(F え)乳児が例えばこちらだけが点滅しますで乳児がこちらのランプを見ると同時に同じ側のこのスピーカーから(F え)第一回目の刺激音が流れますで乳児がランプから二秒以上視線を外すか一回分の刺激音約二十秒分が終了するまでランプの点滅と刺激音の提示はずっと続けましたで四回練習試行を乳児に(F えー)行ないましてで振り向きランプへの振り向きを学習させた後に十二回の本試行を続けて行ないましたで本試行では十二曲を一回ずつ提示して(F えー)それから合わせて(D こ)こちらにある(F あの)ビデオカメラで乳児の様子を録画しました(F え)実験者は(F え)乳児に見えないように壁の向こう側におりますで(F えーっと)実験の間コンピューターを通してランプの点滅と刺激音の提示を操作しそれから乳児がランプに注目していた時間を(F え)観察しながら(F えー)コンピューターに入力していきました本試行の間はこの実験者と母親はヘッドホンを通してマスキング用の音楽を聞きましたで曲の提示順(F え)先程あった(F え)長調六曲短調六曲の提示順それから音源の左右(F えー)右から出たり左から出たりという(F え)半分ずつ出るんですけれどもその(F え)左右の順は全て被験時間それから月齢間でカウンターバランスを取りましたでは次に(F えー)聴取この実験の結果について説明します(F え)三つの群に対して(F えー)先程言ったように実験を行ないました(F えー)五か月児(F えっと)それぞれこちらが(F えーっと)原型旋律の平均聴取時間平均それから(F えー)こちらの白い方が変形旋律の聴取時間平均ですでこの有意差を見ましたところ五か月児八か月児のいずれにおいても有意差は認められませんでしたで十四か月児における(F え)聴取時間平均は(F え)原型の方が(A 七．七三;７．７３)秒変形が(A 六．三五;６．３５)秒だったんですけれども(F え)この群においてのみ(F えー)原型への選好が(F えー)有意に認められましたで次に(F えー)最初に申し上げたようにそれぞれの曲を乳児がどのくらい聞いているかということとの(F えー)関係について説明します(F えー)被験児の保護者全員に(F あの)実験が終了した後でアンケートを行なって実験で原型として用いた六曲について子供にどの程度普段家で歌い掛けているかそれからどの程度今は(A シーディー;ＣＤ)ですとかテレビですとかそういう(F あのー)ものがありますけれどもそういう視聴覚機器を通して(F え)視聴させているかというその二点について(F え)三段階で頻度を答えてもらいましたでその頻度を少ない順に一点二点三点と点数化してトータルの点数を各被験児の持ち点としてでそれと先程(F えー)行なった実験における個々の乳児の条件間の聴取時間差との関連を調べてみました(F え)その結果(F えー)こちらにありますように五か月児群十四か月児群の両群においては(F え)特に(F え)経験との関係は認められませんでした(F え)しかし八か月児群においてのみ(F えー)ここの(A エー;Ａ)(A ビー;Ｂ)に示したような(F えー)相関が有意に見られました(F え)即ちまず(F えーと)保護者が歌い掛けているたくさん歌い掛けているかそうでないかということとそれから原型の聴取時間から変形の聴取時間を引いた差つまり原型を(F えー)選好した(F え)強さ強度の度合いとが(F え)高水準で相関がありましたそれから(A ビー;Ｂ)に示しましたように(F え)録音されたもの(A シーディー;ＣＤ)ですとかテレビだとかそういうもので(F えー)よく聞いているかどうかというスコアとスコアが(F えー)高ければ高い程(F え)原型と変形の(D しょうちゅし)聴取時間の差これは差の絶対値です(D2 は)が(F えー)高水準で相関が認められましたで次に(F えー)結果をまとめたいと思いますよいしょよいしょ(F え)まず長調の原型とその短調の変形を弁別してかつ原型の方へ(F えー)選好が有意に認められたのは(F えー)十四か月児であったと判断できますそれまでの(F えーと)ゼロ歳の時期は(F え)そういう傾向が(F え)明瞭には見え見られないということですで(F ま)今回の結果から長調短調の弁別は人が予め持っている反応であると言うよりは発達と共に獲得されるような反応であるという風に(F えー)考える可能性が出てきましたそれから(F えー)(D かつ)各月齢児群における(F えー)ちょっと今日は言いませんでしたけれども原型を(F えー)有意に聞いた変形を有意に聞いたという人数比を見ますと五か月児では(F えー)やはり特に差はないんですけれども十四か月児に向かって徐々にどうも長調の原型への選好が(F えー)形作られているのではないかということが予想されますそれから特に(F え)八か月児において先程申し上げたような(F えー)(F えーと)長調の原型への選好あるいは長調と短調の(F え)弁別の度合いとそれから経験との関連が示唆されたことからゼロ歳児の後期において経験の影響が加わることによってこの長調の原型への選好ですとか調の弁別だとかそういうものが形作られ始めるという可能性が示されましたで今回の(F え)結果は長調の旋律を原型とした変形との短調との(F えー)比較という条件限られた条件で示されたものですので今後は原型を短調にして同様に実験を行なうあるいは聴取経験の有無に関して(F え)今度は統制を取る為に未知曲を用いた実験を行なうことこれらを通して調(D ん)の弁別や選好がどの時期から(F え)どのような形で始まるのかまた経験による影響について(F えー)もっと子細を検証していきたいと思っております以上です\n"
          ]
        }
      ],
      "source": [
        "import glob\n",
        "\n",
        "#ファイルを読み込む関数。listから改行を消す。\n",
        "def read_file(file_path):\n",
        "  with open(file_path, \"r\") as file:\n",
        "    return \"\".join([line.strip() for line in file if line.strip()])\n",
        "\n",
        "# ファイルパス\n",
        "file_paths = sorted(glob.glob(\"/content/*.txt\"))\n",
        "\n",
        "# 実行結果をllistに渡す\n",
        "data_sets = [read_file(file_path) for file_path in file_paths]\n",
        "\n",
        "# 確認用\n",
        "print(file_paths)\n",
        "print(data_sets[0])\n"
      ]
    },
    {
      "cell_type": "code",
      "source": [
        "# python3で動作するMeCabライブラリ\n",
        "!pip install mecab-python3\n",
        "# UniDicは国立国語研究所が開発している辞書\n",
        "!pip install unidic\n",
        "!python -m unidic download"
      ],
      "metadata": {
        "colab": {
          "base_uri": "https://localhost:8080/"
        },
        "id": "fzoHrEA-2Fh0",
        "outputId": "f8b61ddc-eddb-4037-e9fc-dea83b282c1b"
      },
      "execution_count": 30,
      "outputs": [
        {
          "output_type": "stream",
          "name": "stdout",
          "text": [
            "Looking in indexes: https://pypi.org/simple, https://us-python.pkg.dev/colab-wheels/public/simple/\n",
            "Requirement already satisfied: mecab-python3 in /usr/local/lib/python3.10/dist-packages (1.0.6)\n",
            "Looking in indexes: https://pypi.org/simple, https://us-python.pkg.dev/colab-wheels/public/simple/\n",
            "Requirement already satisfied: unidic in /usr/local/lib/python3.10/dist-packages (1.1.0)\n",
            "Requirement already satisfied: requests<3.0.0,>=2.22.0 in /usr/local/lib/python3.10/dist-packages (from unidic) (2.27.1)\n",
            "Requirement already satisfied: tqdm<5.0.0,>=4.41.1 in /usr/local/lib/python3.10/dist-packages (from unidic) (4.65.0)\n",
            "Requirement already satisfied: wasabi<1.0.0,>=0.6.0 in /usr/local/lib/python3.10/dist-packages (from unidic) (0.10.1)\n",
            "Requirement already satisfied: plac<2.0.0,>=1.1.3 in /usr/local/lib/python3.10/dist-packages (from unidic) (1.3.5)\n",
            "Requirement already satisfied: urllib3<1.27,>=1.21.1 in /usr/local/lib/python3.10/dist-packages (from requests<3.0.0,>=2.22.0->unidic) (1.26.15)\n",
            "Requirement already satisfied: certifi>=2017.4.17 in /usr/local/lib/python3.10/dist-packages (from requests<3.0.0,>=2.22.0->unidic) (2022.12.7)\n",
            "Requirement already satisfied: charset-normalizer~=2.0.0 in /usr/local/lib/python3.10/dist-packages (from requests<3.0.0,>=2.22.0->unidic) (2.0.12)\n",
            "Requirement already satisfied: idna<4,>=2.5 in /usr/local/lib/python3.10/dist-packages (from requests<3.0.0,>=2.22.0->unidic) (3.4)\n",
            "download url: https://cotonoha-dic.s3-ap-northeast-1.amazonaws.com/unidic-3.1.0.zip\n",
            "Dictionary version: 3.1.0+2021-08-31\n",
            "Downloading UniDic v3.1.0+2021-08-31...\n",
            "unidic-3.1.0.zip: 100% 526M/526M [00:34<00:00, 15.3MB/s]\n",
            "Finished download.\n",
            "Downloaded UniDic v3.1.0+2021-08-31 to /usr/local/lib/python3.10/dist-packages/unidic/dicdir\n"
          ]
        }
      ]
    },
    {
      "cell_type": "code",
      "source": [
        "import MeCab\n",
        "import unidic"
      ],
      "metadata": {
        "id": "LdQGhzZK5vXx"
      },
      "execution_count": 31,
      "outputs": []
    },
    {
      "cell_type": "markdown",
      "source": [
        "形態素解析"
      ],
      "metadata": {
        "id": "P6_ek5P5RZLM"
      }
    },
    {
      "cell_type": "code",
      "source": [
        "import MeCab\n",
        "import pandas as pd\n",
        "\n",
        "def make_word_list(word_type, data):\n",
        "    mecab = MeCab.Tagger()\n",
        "    node = mecab.parseToNode(data)\n",
        "    word_list = []\n",
        "\n",
        "    while node:\n",
        "        word_pos = node.feature.split(',')[0]\n",
        "\n",
        "        if word_pos in word_type and node.surface != 'ー':\n",
        "            word_list.append(node.surface)\n",
        "\n",
        "        node = node.next\n",
        "\n",
        "    return word_list\n",
        "\n",
        "#話者\n",
        "titles = [\n",
        "    \"A_F1\", \"A_F2\", \"A_F3\",\n",
        "    \"A_M1\", \"A_M2\", \"A_M3\",\n",
        "    \"S_F1\", \"S_F2\", \"S_F3\",\n",
        "    \"S_M1\", \"S_M2\", \"S_M3\"\n",
        "]\n",
        "\n",
        "#品詞\n",
        "pos_types = [\"名詞\", \"動詞\", \"形容詞\", \"副詞\", \"感動詞\"]\n",
        "#品詞をkeyとしたからの辞書の作成\n",
        "pos_counts = {pos: [] for pos in pos_types}\n",
        "\n",
        "# 辞書に値入れる\n",
        "for data in data_sets:\n",
        "    for pos in pos_types:\n",
        "        pos_counts[pos].append(len(make_word_list(pos, data)))\n",
        "\n",
        "#データフレームに変更\n",
        "df = pd.DataFrame(pos_counts, index=titles)\n",
        "\n",
        "print(df)\n"
      ],
      "metadata": {
        "colab": {
          "base_uri": "https://localhost:8080/"
        },
        "id": "aHVN0rhx54oq",
        "outputId": "e84b005f-cce5-4915-b6b4-947de8c1d7ac"
      },
      "execution_count": 82,
      "outputs": [
        {
          "output_type": "stream",
          "name": "stdout",
          "text": [
            "        名詞   動詞  形容詞   副詞   感動詞\n",
            "A_F1   771  294   14   36   639\n",
            "A_F2  1100  334   34   42   720\n",
            "A_F3   858  190   89   27   268\n",
            "A_M1  1643  572   37  121  1112\n",
            "A_M2   874  410   30   66   675\n",
            "A_M3   654  173   20   16   623\n",
            "S_F1   960  582   74  255  1190\n",
            "S_F2   427  278   40   51   344\n",
            "S_F3   366  159   19   38   297\n",
            "S_M1   320  209   44   77   398\n",
            "S_M2   465  262   37   89   598\n",
            "S_M3   477  260   40   83   512\n"
          ]
        }
      ]
    },
    {
      "cell_type": "markdown",
      "source": [
        "感動詞を抜く"
      ],
      "metadata": {
        "id": "Ie-o2MYxTEHc"
      }
    },
    {
      "cell_type": "code",
      "source": [
        "#感動詞の削除\n",
        "df_fin = df.drop(\"感動詞\", axis=1)\n",
        "print(df_fin)"
      ],
      "metadata": {
        "colab": {
          "base_uri": "https://localhost:8080/"
        },
        "id": "GbZnX2WxY0Uh",
        "outputId": "dc73f594-a4a7-4f82-ecc5-564f8a36ab47"
      },
      "execution_count": 96,
      "outputs": [
        {
          "output_type": "stream",
          "name": "stdout",
          "text": [
            "        名詞   動詞  形容詞   副詞\n",
            "A_F1   771  294   14   36\n",
            "A_F2  1100  334   34   42\n",
            "A_F3   858  190   89   27\n",
            "A_M1  1643  572   37  121\n",
            "A_M2   874  410   30   66\n",
            "A_M3   654  173   20   16\n",
            "S_F1   960  582   74  255\n",
            "S_F2   427  278   40   51\n",
            "S_F3   366  159   19   38\n",
            "S_M1   320  209   44   77\n",
            "S_M2   465  262   37   89\n",
            "S_M3   477  260   40   83\n"
          ]
        }
      ]
    },
    {
      "cell_type": "markdown",
      "source": [
        "割合"
      ],
      "metadata": {
        "id": "9zq1DGhWY-bm"
      }
    },
    {
      "cell_type": "code",
      "source": [
        "row_sums = df_fin.sum(axis=1)  # 行ごとの合計を計算\n",
        "row_percents = df_fin.div(row_sums, axis=0) * 100  # 行ごとの割合を計算\n",
        "\n",
        "print(row_percents)"
      ],
      "metadata": {
        "colab": {
          "base_uri": "https://localhost:8080/"
        },
        "id": "XUYjITXcMiMK",
        "outputId": "0d2e1b78-c911-45d0-a291-a1ca805908ef"
      },
      "execution_count": 100,
      "outputs": [
        {
          "output_type": "stream",
          "name": "stdout",
          "text": [
            "             名詞         動詞       形容詞         副詞\n",
            "A_F1  69.147982  26.367713  1.255605   3.228700\n",
            "A_F2  72.847682  22.119205  2.251656   2.781457\n",
            "A_F3  73.711340  16.323024  7.646048   2.319588\n",
            "A_M1  69.237252  24.104509  1.559208   5.099031\n",
            "A_M2  63.333333  29.710145  2.173913   4.782609\n",
            "A_M3  75.782155  20.046350  2.317497   1.853998\n",
            "S_F1  51.309460  31.106360  3.955104  13.629075\n",
            "S_F2  53.643216  34.924623  5.025126   6.407035\n",
            "S_F3  62.886598  27.319588  3.264605   6.529210\n",
            "S_M1  49.230769  32.153846  6.769231  11.846154\n",
            "S_M2  54.513482  30.715123  4.337632  10.433763\n",
            "S_M3  55.465116  30.232558  4.651163   9.651163\n"
          ]
        }
      ]
    },
    {
      "cell_type": "markdown",
      "source": [
        "グラフ"
      ],
      "metadata": {
        "id": "xkjjdHn8ouTe"
      }
    },
    {
      "cell_type": "code",
      "source": [
        "!pip install japanize-matplotlib\n",
        "%matplotlib inline\n",
        "import japanize_matplotlib\n",
        "import matplotlib.pyplot as plt\n",
        "\n",
        "\n",
        "row_percents.plot(kind='bar', stacked=True)\n",
        "\n",
        "# グラフの設定\n",
        "plt.xlabel('話者')\n",
        "plt.ylabel('割合 (%)')\n",
        "plt.legend(loc='center left', bbox_to_anchor=(1, 0.5))\n",
        "plt.xticks(rotation=0)\n",
        "\n",
        "# グラフの表示\n",
        "plt.show()\n"
      ],
      "metadata": {
        "colab": {
          "base_uri": "https://localhost:8080/",
          "height": 701
        },
        "id": "0lcxw0pFk_Z0",
        "outputId": "8ac22455-257f-4c86-d992-f8c116964ff7"
      },
      "execution_count": 101,
      "outputs": [
        {
          "output_type": "stream",
          "name": "stdout",
          "text": [
            "Looking in indexes: https://pypi.org/simple, https://us-python.pkg.dev/colab-wheels/public/simple/\n",
            "Requirement already satisfied: japanize-matplotlib in /usr/local/lib/python3.10/dist-packages (1.1.3)\n",
            "Requirement already satisfied: matplotlib in /usr/local/lib/python3.10/dist-packages (from japanize-matplotlib) (3.7.1)\n",
            "Requirement already satisfied: contourpy>=1.0.1 in /usr/local/lib/python3.10/dist-packages (from matplotlib->japanize-matplotlib) (1.0.7)\n",
            "Requirement already satisfied: cycler>=0.10 in /usr/local/lib/python3.10/dist-packages (from matplotlib->japanize-matplotlib) (0.11.0)\n",
            "Requirement already satisfied: fonttools>=4.22.0 in /usr/local/lib/python3.10/dist-packages (from matplotlib->japanize-matplotlib) (4.39.3)\n",
            "Requirement already satisfied: kiwisolver>=1.0.1 in /usr/local/lib/python3.10/dist-packages (from matplotlib->japanize-matplotlib) (1.4.4)\n",
            "Requirement already satisfied: numpy>=1.20 in /usr/local/lib/python3.10/dist-packages (from matplotlib->japanize-matplotlib) (1.22.4)\n",
            "Requirement already satisfied: packaging>=20.0 in /usr/local/lib/python3.10/dist-packages (from matplotlib->japanize-matplotlib) (23.1)\n",
            "Requirement already satisfied: pillow>=6.2.0 in /usr/local/lib/python3.10/dist-packages (from matplotlib->japanize-matplotlib) (8.4.0)\n",
            "Requirement already satisfied: pyparsing>=2.3.1 in /usr/local/lib/python3.10/dist-packages (from matplotlib->japanize-matplotlib) (3.0.9)\n",
            "Requirement already satisfied: python-dateutil>=2.7 in /usr/local/lib/python3.10/dist-packages (from matplotlib->japanize-matplotlib) (2.8.2)\n",
            "Requirement already satisfied: six>=1.5 in /usr/local/lib/python3.10/dist-packages (from python-dateutil>=2.7->matplotlib->japanize-matplotlib) (1.16.0)\n"
          ]
        },
        {
          "output_type": "display_data",
          "data": {
            "text/plain": [
              "<Figure size 640x480 with 1 Axes>"
            ],
            "image/png": "[encoded data removed]"
          },
          "metadata": {}
        }
      ]
    }
  ]
}